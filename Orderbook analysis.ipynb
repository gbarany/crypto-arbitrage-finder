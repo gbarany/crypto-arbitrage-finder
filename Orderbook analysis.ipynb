{
 "cells": [
  {
   "cell_type": "code",
   "execution_count": 1,
   "metadata": {
    "ExecuteTime": {
     "end_time": "2018-08-20T20:54:45.686528Z",
     "start_time": "2018-08-20T20:54:45.681743Z"
    }
   },
   "outputs": [],
   "source": [
    "#!pip install mysqlclient\n",
    "#!pip install bellmanford\n",
    "#!pip install networkx\n",
    "#!pip install ccxt"
   ]
  },
  {
   "cell_type": "code",
   "execution_count": 2,
   "metadata": {
    "ExecuteTime": {
     "end_time": "2018-08-20T20:54:46.816305Z",
     "start_time": "2018-08-20T20:54:45.689939Z"
    }
   },
   "outputs": [],
   "source": [
    "import OrderbookAnalyser as OrderbookAnalyser"
   ]
  },
  {
   "cell_type": "code",
   "execution_count": 3,
   "metadata": {
    "ExecuteTime": {
     "end_time": "2018-08-20T20:59:40.018169Z",
     "start_time": "2018-08-20T20:54:46.818663Z"
    },
    "scrolled": true
   },
   "outputs": [
    {
     "name": "stderr",
     "output_type": "stream",
     "text": [
      "3it [00:00, 28.77it/s]"
     ]
    },
    {
     "name": "stdout",
     "output_type": "stream",
     "text": [
      "Rows fetched: 10000\n"
     ]
    },
    {
     "name": "stderr",
     "output_type": "stream",
     "text": [
      "10000it [04:50, 34.41it/s]\n"
     ]
    }
   ],
   "source": [
    "vol_BTC=[1,0.1,0.01]\n",
    "exchangeList = ['coinfloor','kraken','bitfinex','bittrex','gdax','bitstamp','coinbase','poloniex']\n",
    "limit = 10000\n",
    "runLocalDB=True\n",
    "df = OrderbookAnalyser.simFromDB(runLocalDB=runLocalDB,vol_BTC=vol_BTC,exchangeList=exchangeList,limit=limit)\n"
   ]
  },
  {
   "cell_type": "code",
   "execution_count": 4,
   "metadata": {
    "ExecuteTime": {
     "end_time": "2018-08-20T20:59:40.045230Z",
     "start_time": "2018-08-20T20:59:40.020813Z"
    }
   },
   "outputs": [
    {
     "data": {
      "text/html": [
       "<div>\n",
       "<style scoped>\n",
       "    .dataframe tbody tr th:only-of-type {\n",
       "        vertical-align: middle;\n",
       "    }\n",
       "\n",
       "    .dataframe tbody tr th {\n",
       "        vertical-align: top;\n",
       "    }\n",
       "\n",
       "    .dataframe thead th {\n",
       "        text-align: right;\n",
       "    }\n",
       "</style>\n",
       "<table border=\"1\" class=\"dataframe\">\n",
       "  <thead>\n",
       "    <tr style=\"text-align: right;\">\n",
       "      <th></th>\n",
       "      <th>id</th>\n",
       "      <th>vol_BTC</th>\n",
       "      <th>length</th>\n",
       "      <th>profit_perc</th>\n",
       "      <th>nodes</th>\n",
       "      <th>edges_weight</th>\n",
       "      <th>edges_age_s</th>\n",
       "      <th>hops</th>\n",
       "      <th>exchanges_involved</th>\n",
       "      <th>nof_exchanges_involved</th>\n",
       "    </tr>\n",
       "  </thead>\n",
       "  <tbody>\n",
       "    <tr>\n",
       "      <th>0</th>\n",
       "      <td>128040</td>\n",
       "      <td>0.01</td>\n",
       "      <td>-0.005412</td>\n",
       "      <td>0.542651</td>\n",
       "      <td>poloniex-BTC,bittrex-BTC,bittrex-FCT,poloniex-...</td>\n",
       "      <td>0.0,-7.103104152468829,0.0,7.097692317691691</td>\n",
       "      <td>0,0.0,0,1.6516199111938477</td>\n",
       "      <td>4</td>\n",
       "      <td>bittrex,poloniex</td>\n",
       "      <td>2</td>\n",
       "    </tr>\n",
       "    <tr>\n",
       "      <th>1</th>\n",
       "      <td>128042</td>\n",
       "      <td>0.01</td>\n",
       "      <td>-0.005412</td>\n",
       "      <td>0.542651</td>\n",
       "      <td>poloniex-BTC,bittrex-BTC,bittrex-FCT,poloniex-...</td>\n",
       "      <td>0.0,-7.103104152468829,0.0,7.097692317691691</td>\n",
       "      <td>0,0.026290178298950195,0,1.6779100894927979</td>\n",
       "      <td>4</td>\n",
       "      <td>bittrex,poloniex</td>\n",
       "      <td>2</td>\n",
       "    </tr>\n",
       "    <tr>\n",
       "      <th>2</th>\n",
       "      <td>128063</td>\n",
       "      <td>1.00</td>\n",
       "      <td>-0.001366</td>\n",
       "      <td>0.136650</td>\n",
       "      <td>bitstamp-BTC,bitstamp-USD,gdax-USD,gdax-BTC,bi...</td>\n",
       "      <td>-8.76239113046495,0.0,8.761025558558117,0.0</td>\n",
       "      <td>-1532914923371.777,0,0.0,0</td>\n",
       "      <td>4</td>\n",
       "      <td>bitstamp,gdax</td>\n",
       "      <td>2</td>\n",
       "    </tr>\n",
       "    <tr>\n",
       "      <th>3</th>\n",
       "      <td>128063</td>\n",
       "      <td>0.10</td>\n",
       "      <td>-0.001488</td>\n",
       "      <td>0.148876</td>\n",
       "      <td>bitstamp-BTC,bitstamp-USD,gdax-USD,gdax-BTC,bi...</td>\n",
       "      <td>-8.76251321518543,0.0,8.761025558558117,0.0</td>\n",
       "      <td>-1532914923371.777,0,0.0,0</td>\n",
       "      <td>4</td>\n",
       "      <td>bitstamp,gdax</td>\n",
       "      <td>2</td>\n",
       "    </tr>\n",
       "    <tr>\n",
       "      <th>4</th>\n",
       "      <td>128063</td>\n",
       "      <td>0.01</td>\n",
       "      <td>-0.005412</td>\n",
       "      <td>0.542651</td>\n",
       "      <td>poloniex-BTC,bittrex-BTC,bittrex-FCT,poloniex-...</td>\n",
       "      <td>0.0,-7.103104152468829,0.0,7.097692317691691</td>\n",
       "      <td>0,0.3746302127838135,0,2.026250123977661</td>\n",
       "      <td>4</td>\n",
       "      <td>bittrex,poloniex</td>\n",
       "      <td>2</td>\n",
       "    </tr>\n",
       "  </tbody>\n",
       "</table>\n",
       "</div>"
      ],
      "text/plain": [
       "       id  vol_BTC    length  profit_perc  \\\n",
       "0  128040     0.01 -0.005412     0.542651   \n",
       "1  128042     0.01 -0.005412     0.542651   \n",
       "2  128063     1.00 -0.001366     0.136650   \n",
       "3  128063     0.10 -0.001488     0.148876   \n",
       "4  128063     0.01 -0.005412     0.542651   \n",
       "\n",
       "                                               nodes  \\\n",
       "0  poloniex-BTC,bittrex-BTC,bittrex-FCT,poloniex-...   \n",
       "1  poloniex-BTC,bittrex-BTC,bittrex-FCT,poloniex-...   \n",
       "2  bitstamp-BTC,bitstamp-USD,gdax-USD,gdax-BTC,bi...   \n",
       "3  bitstamp-BTC,bitstamp-USD,gdax-USD,gdax-BTC,bi...   \n",
       "4  poloniex-BTC,bittrex-BTC,bittrex-FCT,poloniex-...   \n",
       "\n",
       "                                   edges_weight  \\\n",
       "0  0.0,-7.103104152468829,0.0,7.097692317691691   \n",
       "1  0.0,-7.103104152468829,0.0,7.097692317691691   \n",
       "2   -8.76239113046495,0.0,8.761025558558117,0.0   \n",
       "3   -8.76251321518543,0.0,8.761025558558117,0.0   \n",
       "4  0.0,-7.103104152468829,0.0,7.097692317691691   \n",
       "\n",
       "                                   edges_age_s hops exchanges_involved  \\\n",
       "0                   0,0.0,0,1.6516199111938477    4   bittrex,poloniex   \n",
       "1  0,0.026290178298950195,0,1.6779100894927979    4   bittrex,poloniex   \n",
       "2                   -1532914923371.777,0,0.0,0    4      bitstamp,gdax   \n",
       "3                   -1532914923371.777,0,0.0,0    4      bitstamp,gdax   \n",
       "4     0,0.3746302127838135,0,2.026250123977661    4   bittrex,poloniex   \n",
       "\n",
       "  nof_exchanges_involved  \n",
       "0                      2  \n",
       "1                      2  \n",
       "2                      2  \n",
       "3                      2  \n",
       "4                      2  "
      ]
     },
     "execution_count": 4,
     "metadata": {},
     "output_type": "execute_result"
    }
   ],
   "source": [
    "df.head()"
   ]
  },
  {
   "cell_type": "code",
   "execution_count": 5,
   "metadata": {
    "ExecuteTime": {
     "end_time": "2018-08-20T20:59:40.311694Z",
     "start_time": "2018-08-20T20:59:40.047343Z"
    }
   },
   "outputs": [
    {
     "data": {
      "text/plain": [
       "<matplotlib.axes._subplots.AxesSubplot at 0xa2406fcf8>"
      ]
     },
     "execution_count": 5,
     "metadata": {},
     "output_type": "execute_result"
    },
    {
     "data": {
      "image/png": "[encoded data removed]",
      "text/plain": [
       "<Figure size 432x288 with 1 Axes>"
      ]
     },
     "metadata": {},
     "output_type": "display_data"
    }
   ],
   "source": [
    "df['profit_perc'].hist(bins=100)"
   ]
  },
  {
   "cell_type": "code",
   "execution_count": 6,
   "metadata": {
    "ExecuteTime": {
     "end_time": "2018-08-20T20:59:40.355060Z",
     "start_time": "2018-08-20T20:59:40.313693Z"
    }
   },
   "outputs": [
    {
     "data": {
      "text/html": [
       "<div>\n",
       "<style scoped>\n",
       "    .dataframe tbody tr th:only-of-type {\n",
       "        vertical-align: middle;\n",
       "    }\n",
       "\n",
       "    .dataframe tbody tr th {\n",
       "        vertical-align: top;\n",
       "    }\n",
       "\n",
       "    .dataframe thead tr th {\n",
       "        text-align: left;\n",
       "    }\n",
       "\n",
       "    .dataframe thead tr:last-of-type th {\n",
       "        text-align: right;\n",
       "    }\n",
       "</style>\n",
       "<table border=\"1\" class=\"dataframe\">\n",
       "  <thead>\n",
       "    <tr>\n",
       "      <th></th>\n",
       "      <th></th>\n",
       "      <th colspan=\"4\" halign=\"left\">profit_perc</th>\n",
       "    </tr>\n",
       "    <tr>\n",
       "      <th></th>\n",
       "      <th></th>\n",
       "      <th>min</th>\n",
       "      <th>max</th>\n",
       "      <th>mean</th>\n",
       "      <th>count</th>\n",
       "    </tr>\n",
       "    <tr>\n",
       "      <th>exchanges_involved</th>\n",
       "      <th>vol_BTC</th>\n",
       "      <th></th>\n",
       "      <th></th>\n",
       "      <th></th>\n",
       "      <th></th>\n",
       "    </tr>\n",
       "  </thead>\n",
       "  <tbody>\n",
       "    <tr>\n",
       "      <th rowspan=\"3\" valign=\"top\">bitstamp,gdax,kraken</th>\n",
       "      <th>0.01</th>\n",
       "      <td>1.169092</td>\n",
       "      <td>1.169092</td>\n",
       "      <td>1.169092</td>\n",
       "      <td>9</td>\n",
       "    </tr>\n",
       "    <tr>\n",
       "      <th>0.10</th>\n",
       "      <td>1.155806</td>\n",
       "      <td>1.155806</td>\n",
       "      <td>1.155806</td>\n",
       "      <td>9</td>\n",
       "    </tr>\n",
       "    <tr>\n",
       "      <th>1.00</th>\n",
       "      <td>1.082541</td>\n",
       "      <td>1.082541</td>\n",
       "      <td>1.082541</td>\n",
       "      <td>9</td>\n",
       "    </tr>\n",
       "    <tr>\n",
       "      <th rowspan=\"2\" valign=\"top\">bitstamp,coinfloor,gdax,kraken</th>\n",
       "      <th>0.01</th>\n",
       "      <td>1.018695</td>\n",
       "      <td>1.018695</td>\n",
       "      <td>1.018695</td>\n",
       "      <td>4</td>\n",
       "    </tr>\n",
       "    <tr>\n",
       "      <th>1.00</th>\n",
       "      <td>0.941744</td>\n",
       "      <td>0.941744</td>\n",
       "      <td>0.941744</td>\n",
       "      <td>4</td>\n",
       "    </tr>\n",
       "    <tr>\n",
       "      <th rowspan=\"2\" valign=\"top\">bitstamp,kraken</th>\n",
       "      <th>1.00</th>\n",
       "      <td>0.627943</td>\n",
       "      <td>0.627943</td>\n",
       "      <td>0.627943</td>\n",
       "      <td>12</td>\n",
       "    </tr>\n",
       "    <tr>\n",
       "      <th>0.10</th>\n",
       "      <td>0.328938</td>\n",
       "      <td>0.672682</td>\n",
       "      <td>0.614796</td>\n",
       "      <td>16</td>\n",
       "    </tr>\n",
       "    <tr>\n",
       "      <th>bittrex,poloniex</th>\n",
       "      <th>0.01</th>\n",
       "      <td>0.542651</td>\n",
       "      <td>0.542651</td>\n",
       "      <td>0.542651</td>\n",
       "      <td>13</td>\n",
       "    </tr>\n",
       "    <tr>\n",
       "      <th rowspan=\"2\" valign=\"top\">bitstamp,coinfloor,gdax</th>\n",
       "      <th>1.00</th>\n",
       "      <td>0.083607</td>\n",
       "      <td>1.073477</td>\n",
       "      <td>0.510716</td>\n",
       "      <td>90</td>\n",
       "    </tr>\n",
       "    <tr>\n",
       "      <th>0.10</th>\n",
       "      <td>0.095826</td>\n",
       "      <td>1.176267</td>\n",
       "      <td>0.503621</td>\n",
       "      <td>49</td>\n",
       "    </tr>\n",
       "    <tr>\n",
       "      <th>bitstamp,kraken</th>\n",
       "      <th>0.01</th>\n",
       "      <td>0.272570</td>\n",
       "      <td>0.672682</td>\n",
       "      <td>0.454079</td>\n",
       "      <td>7</td>\n",
       "    </tr>\n",
       "    <tr>\n",
       "      <th>bitstamp,coinfloor,gdax</th>\n",
       "      <th>0.01</th>\n",
       "      <td>0.100990</td>\n",
       "      <td>1.127194</td>\n",
       "      <td>0.429566</td>\n",
       "      <td>69</td>\n",
       "    </tr>\n",
       "    <tr>\n",
       "      <th rowspan=\"3\" valign=\"top\">bitstamp,gdax</th>\n",
       "      <th>0.01</th>\n",
       "      <td>0.119708</td>\n",
       "      <td>0.780516</td>\n",
       "      <td>0.408166</td>\n",
       "      <td>391</td>\n",
       "    </tr>\n",
       "    <tr>\n",
       "      <th>0.10</th>\n",
       "      <td>0.108507</td>\n",
       "      <td>0.751662</td>\n",
       "      <td>0.407430</td>\n",
       "      <td>433</td>\n",
       "    </tr>\n",
       "    <tr>\n",
       "      <th>1.00</th>\n",
       "      <td>0.009172</td>\n",
       "      <td>0.752687</td>\n",
       "      <td>0.374439</td>\n",
       "      <td>403</td>\n",
       "    </tr>\n",
       "    <tr>\n",
       "      <th>bitstamp,gdax,poloniex</th>\n",
       "      <th>1.00</th>\n",
       "      <td>0.373884</td>\n",
       "      <td>0.373884</td>\n",
       "      <td>0.373884</td>\n",
       "      <td>3</td>\n",
       "    </tr>\n",
       "    <tr>\n",
       "      <th>bitstamp,coinfloor,poloniex</th>\n",
       "      <th>1.00</th>\n",
       "      <td>0.338826</td>\n",
       "      <td>0.338826</td>\n",
       "      <td>0.338826</td>\n",
       "      <td>4</td>\n",
       "    </tr>\n",
       "    <tr>\n",
       "      <th rowspan=\"3\" valign=\"top\">bitstamp,coinfloor</th>\n",
       "      <th>1.00</th>\n",
       "      <td>0.087844</td>\n",
       "      <td>0.713629</td>\n",
       "      <td>0.256168</td>\n",
       "      <td>330</td>\n",
       "    </tr>\n",
       "    <tr>\n",
       "      <th>0.10</th>\n",
       "      <td>0.087844</td>\n",
       "      <td>0.743299</td>\n",
       "      <td>0.240947</td>\n",
       "      <td>301</td>\n",
       "    </tr>\n",
       "    <tr>\n",
       "      <th>0.01</th>\n",
       "      <td>0.087844</td>\n",
       "      <td>0.748495</td>\n",
       "      <td>0.239694</td>\n",
       "      <td>254</td>\n",
       "    </tr>\n",
       "    <tr>\n",
       "      <th rowspan=\"3\" valign=\"top\">bitstamp</th>\n",
       "      <th>0.01</th>\n",
       "      <td>0.009407</td>\n",
       "      <td>0.497984</td>\n",
       "      <td>0.140842</td>\n",
       "      <td>204</td>\n",
       "    </tr>\n",
       "    <tr>\n",
       "      <th>0.10</th>\n",
       "      <td>0.028533</td>\n",
       "      <td>0.492724</td>\n",
       "      <td>0.135763</td>\n",
       "      <td>139</td>\n",
       "    </tr>\n",
       "    <tr>\n",
       "      <th>1.00</th>\n",
       "      <td>0.001381</td>\n",
       "      <td>0.347705</td>\n",
       "      <td>0.066459</td>\n",
       "      <td>90</td>\n",
       "    </tr>\n",
       "  </tbody>\n",
       "</table>\n",
       "</div>"
      ],
      "text/plain": [
       "                                       profit_perc                          \n",
       "                                               min       max      mean count\n",
       "exchanges_involved             vol_BTC                                      \n",
       "bitstamp,gdax,kraken           0.01       1.169092  1.169092  1.169092     9\n",
       "                               0.10       1.155806  1.155806  1.155806     9\n",
       "                               1.00       1.082541  1.082541  1.082541     9\n",
       "bitstamp,coinfloor,gdax,kraken 0.01       1.018695  1.018695  1.018695     4\n",
       "                               1.00       0.941744  0.941744  0.941744     4\n",
       "bitstamp,kraken                1.00       0.627943  0.627943  0.627943    12\n",
       "                               0.10       0.328938  0.672682  0.614796    16\n",
       "bittrex,poloniex               0.01       0.542651  0.542651  0.542651    13\n",
       "bitstamp,coinfloor,gdax        1.00       0.083607  1.073477  0.510716    90\n",
       "                               0.10       0.095826  1.176267  0.503621    49\n",
       "bitstamp,kraken                0.01       0.272570  0.672682  0.454079     7\n",
       "bitstamp,coinfloor,gdax        0.01       0.100990  1.127194  0.429566    69\n",
       "bitstamp,gdax                  0.01       0.119708  0.780516  0.408166   391\n",
       "                               0.10       0.108507  0.751662  0.407430   433\n",
       "                               1.00       0.009172  0.752687  0.374439   403\n",
       "bitstamp,gdax,poloniex         1.00       0.373884  0.373884  0.373884     3\n",
       "bitstamp,coinfloor,poloniex    1.00       0.338826  0.338826  0.338826     4\n",
       "bitstamp,coinfloor             1.00       0.087844  0.713629  0.256168   330\n",
       "                               0.10       0.087844  0.743299  0.240947   301\n",
       "                               0.01       0.087844  0.748495  0.239694   254\n",
       "bitstamp                       0.01       0.009407  0.497984  0.140842   204\n",
       "                               0.10       0.028533  0.492724  0.135763   139\n",
       "                               1.00       0.001381  0.347705  0.066459    90"
      ]
     },
     "execution_count": 6,
     "metadata": {},
     "output_type": "execute_result"
    }
   ],
   "source": [
    "df[['exchanges_involved', 'profit_perc','vol_BTC']].groupby(['exchanges_involved','vol_BTC']).agg(['min','max','mean', 'count']).sort_values([('profit_perc', 'mean')], ascending=False)"
   ]
  },
  {
   "cell_type": "code",
   "execution_count": null,
   "metadata": {},
   "outputs": [],
   "source": []
  }
 ],
 "metadata": {
  "kernelspec": {
   "display_name": "Python 3",
   "language": "python",
   "name": "python3"
  },
  "language_info": {
   "codemirror_mode": {
    "name": "ipython",
    "version": 3
   },
   "file_extension": ".py",
   "mimetype": "text/x-python",
   "name": "python",
   "nbconvert_exporter": "python",
   "pygments_lexer": "ipython3",
   "version": "3.6.6"
  },
  "varInspector": {
   "cols": {
    "lenName": 16,
    "lenType": 16,
    "lenVar": 40
   },
   "kernels_config": {
    "python": {
     "delete_cmd_postfix": "",
     "delete_cmd_prefix": "del ",
     "library": "var_list.py",
     "varRefreshCmd": "print(var_dic_list())"
    },
    "r": {
     "delete_cmd_postfix": ") ",
     "delete_cmd_prefix": "rm(",
     "library": "var_list.r",
     "varRefreshCmd": "cat(var_dic_list()) "
    }
   },
   "types_to_exclude": [
    "module",
    "function",
    "builtin_function_or_method",
    "instance",
    "_Feature"
   ],
   "window_display": false
  }
 },
 "nbformat": 4,
 "nbformat_minor": 2
}
