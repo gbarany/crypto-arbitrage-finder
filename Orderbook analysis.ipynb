{
 "cells": [
  {
   "cell_type": "code",
   "execution_count": null,
   "metadata": {
    "ExecuteTime": {
     "end_time": "2018-08-16T21:25:16.976660Z",
     "start_time": "2018-08-16T21:25:16.971942Z"
    }
   },
   "outputs": [],
   "source": [
    "#!pip install mysqlclient\n",
    "#!pip install bellmanford\n",
    "#!pip install networkx\n",
    "#!conda install -c anaconda networkx "
   ]
  },
  {
   "cell_type": "code",
   "execution_count": null,
   "metadata": {
    "ExecuteTime": {
     "end_time": "2018-08-16T21:25:17.617775Z",
     "start_time": "2018-08-16T21:25:16.979713Z"
    }
   },
   "outputs": [],
   "source": [
    "from tqdm import tqdm\n",
    "import MySQLdb as MySQLdb\n",
    "import ast\n",
    "import numpy as np\n",
    "from ArbitrageGraph import ArbitrageGraph\n"
   ]
  },
  {
   "cell_type": "code",
   "execution_count": null,
   "metadata": {
    "ExecuteTime": {
     "end_time": "2018-08-16T21:25:17.625136Z",
     "start_time": "2018-08-16T21:25:17.622526Z"
    }
   },
   "outputs": [],
   "source": [
    "arbitrageGraph = ArbitrageGraph()"
   ]
  },
  {
   "cell_type": "code",
   "execution_count": null,
   "metadata": {
    "ExecuteTime": {
     "end_time": "2018-08-16T21:25:17.630414Z",
     "start_time": "2018-08-16T21:25:17.627923Z"
    }
   },
   "outputs": [],
   "source": [
    "sql=\"SELECT exchange, pair, bids, asks, id FROM orderbook WHERE exchange IN ('coinfloor','kraken','bitfinex','bittrex','gdax','bitstamp','coinbase','poloniex') ORDER BY ID LIMIT 4000;\""
   ]
  },
  {
   "cell_type": "code",
   "execution_count": null,
   "metadata": {
    "ExecuteTime": {
     "end_time": "2018-08-16T21:25:30.897563Z",
     "start_time": "2018-08-16T21:25:17.633054Z"
    }
   },
   "outputs": [],
   "source": [
    "db = MySQLdb.connect(\n",
    "    host=\"orderbook.cyifbgm0zwt0.eu-west-2.rds.amazonaws.com\",\n",
    "    user=\"admin\",\n",
    "    passwd=\"123Qwe123Qwe\",\n",
    "    db=\"orderbook\",\n",
    "    port=3306)\n",
    "cursor = db.cursor()\n",
    "nof_rows=cursor.execute(sql)"
   ]
  },
  {
   "cell_type": "code",
   "execution_count": null,
   "metadata": {
    "ExecuteTime": {
     "end_time": "2018-08-16T21:25:33.729556Z",
     "start_time": "2018-08-16T21:25:30.899792Z"
    }
   },
   "outputs": [],
   "source": [
    "#for row in tqdm(cursor.fetchall()):\n",
    "for row in tqdm(cursor):\n",
    "    exchangename = row[0]\n",
    "    symbol = row[1]\n",
    "    bids_str = row[2]\n",
    "    asks_str = row[3]\n",
    "    try:\n",
    "        l_ask = ast.literal_eval(asks_str)[0][0]\n",
    "        h_bid = ast.literal_eval(bids_str)[0][0]\n",
    "        #print(\"%s,%s,%f,%f\" % (exchangename, symbol, h_bid, l_ask))\n",
    "        length, nodes, negative_cycle = arbitrageGraph.update_point(\n",
    "            symbol,\n",
    "            exchangename,\n",
    "            0.02,\n",
    "            l_ask,\n",
    "            h_bid)\n",
    "        \n",
    "        if negative_cycle == True:\n",
    "            edges=arbitrageGraph.nodeslist_to_edges(nodes)\n",
    "            print(\"length:\",length,\"ratio\",np.exp(-length),'nodes',nodes,'edges',edges)\n",
    "            #arbitrageGraph.plot_graph()\n",
    "    except IndexError:\n",
    "        print(\"*** Invalid orderbook ***\")\n"
   ]
  },
  {
   "cell_type": "code",
   "execution_count": null,
   "metadata": {
    "ExecuteTime": {
     "end_time": "2018-08-16T21:25:33.740998Z",
     "start_time": "2018-08-16T21:25:33.732318Z"
    }
   },
   "outputs": [],
   "source": [
    "db.close()"
   ]
  },
  {
   "cell_type": "code",
   "execution_count": null,
   "metadata": {},
   "outputs": [],
   "source": []
  }
 ],
 "metadata": {
  "kernelspec": {
   "display_name": "Python 3",
   "language": "python",
   "name": "python3"
  },
  "language_info": {
   "codemirror_mode": {
    "name": "ipython",
    "version": 3
   },
   "file_extension": ".py",
   "mimetype": "text/x-python",
   "name": "python",
   "nbconvert_exporter": "python",
   "pygments_lexer": "ipython3",
   "version": "3.6.6"
  },
  "varInspector": {
   "cols": {
    "lenName": 16,
    "lenType": 16,
    "lenVar": 40
   },
   "kernels_config": {
    "python": {
     "delete_cmd_postfix": "",
     "delete_cmd_prefix": "del ",
     "library": "var_list.py",
     "varRefreshCmd": "print(var_dic_list())"
    },
    "r": {
     "delete_cmd_postfix": ") ",
     "delete_cmd_prefix": "rm(",
     "library": "var_list.r",
     "varRefreshCmd": "cat(var_dic_list()) "
    }
   },
   "types_to_exclude": [
    "module",
    "function",
    "builtin_function_or_method",
    "instance",
    "_Feature"
   ],
   "window_display": false
  }
 },
 "nbformat": 4,
 "nbformat_minor": 2
}
