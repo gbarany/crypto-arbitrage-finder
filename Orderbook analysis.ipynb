{
 "cells": [
  {
   "cell_type": "code",
   "execution_count": null,
   "metadata": {
    "ExecuteTime": {
     "end_time": "2018-08-20T21:42:06.091064Z",
     "start_time": "2018-08-20T21:42:06.086577Z"
    }
   },
   "outputs": [],
   "source": [
    "#!pip install mysqlclient\n",
    "#!pip install bellmanford\n",
    "#!pip install networkx\n",
    "#!pip install ccxt"
   ]
  },
  {
   "cell_type": "code",
   "execution_count": null,
   "metadata": {
    "ExecuteTime": {
     "end_time": "2018-08-20T21:42:07.503128Z",
     "start_time": "2018-08-20T21:42:06.093408Z"
    }
   },
   "outputs": [],
   "source": [
    "import OrderbookAnalyser as OrderbookAnalyser"
   ]
  },
  {
   "cell_type": "code",
   "execution_count": null,
   "metadata": {
    "ExecuteTime": {
     "end_time": "2018-08-20T21:47:37.889447Z",
     "start_time": "2018-08-20T21:42:07.505281Z"
    },
    "scrolled": true
   },
   "outputs": [],
   "source": [
    "vol_BTC=[1,0.1,0.01]\n",
    "exchangeList = ['coinfloor','kraken','bitfinex','bittrex','gdax','bitstamp','coinbase','poloniex']\n",
    "limit = 10000 # None\n",
    "runLocalDB=True\n",
    "df = OrderbookAnalyser.simFromDB(runLocalDB=runLocalDB,vol_BTC=vol_BTC,exchangeList=exchangeList,limit=limit)\n"
   ]
  },
  {
   "cell_type": "code",
   "execution_count": null,
   "metadata": {
    "ExecuteTime": {
     "end_time": "2018-08-20T21:47:37.909469Z",
     "start_time": "2018-08-20T21:47:37.891681Z"
    }
   },
   "outputs": [],
   "source": [
    "df.head()"
   ]
  },
  {
   "cell_type": "code",
   "execution_count": null,
   "metadata": {
    "ExecuteTime": {
     "end_time": "2018-08-20T21:47:38.132174Z",
     "start_time": "2018-08-20T21:47:37.911576Z"
    }
   },
   "outputs": [],
   "source": [
    "df['profit_perc'].hist(bins=100)"
   ]
  },
  {
   "cell_type": "code",
   "execution_count": null,
   "metadata": {
    "ExecuteTime": {
     "end_time": "2018-08-20T21:47:38.157973Z",
     "start_time": "2018-08-20T21:47:38.134664Z"
    }
   },
   "outputs": [],
   "source": [
    "df[['exchanges_involved', 'profit_perc','vol_BTC']].groupby(['exchanges_involved','vol_BTC']).agg(['min','max','mean', 'count']).sort_values([('profit_perc', 'mean')], ascending=False)"
   ]
  },
  {
   "cell_type": "code",
   "execution_count": null,
   "metadata": {},
   "outputs": [],
   "source": []
  }
 ],
 "metadata": {
  "kernelspec": {
   "display_name": "Python 3",
   "language": "python",
   "name": "python3"
  },
  "language_info": {
   "codemirror_mode": {
    "name": "ipython",
    "version": 3
   },
   "file_extension": ".py",
   "mimetype": "text/x-python",
   "name": "python",
   "nbconvert_exporter": "python",
   "pygments_lexer": "ipython3",
   "version": "3.6.6"
  },
  "varInspector": {
   "cols": {
    "lenName": 16,
    "lenType": 16,
    "lenVar": 40
   },
   "kernels_config": {
    "python": {
     "delete_cmd_postfix": "",
     "delete_cmd_prefix": "del ",
     "library": "var_list.py",
     "varRefreshCmd": "print(var_dic_list())"
    },
    "r": {
     "delete_cmd_postfix": ") ",
     "delete_cmd_prefix": "rm(",
     "library": "var_list.r",
     "varRefreshCmd": "cat(var_dic_list()) "
    }
   },
   "types_to_exclude": [
    "module",
    "function",
    "builtin_function_or_method",
    "instance",
    "_Feature"
   ],
   "window_display": false
  }
 },
 "nbformat": 4,
 "nbformat_minor": 2
}
