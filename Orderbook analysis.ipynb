{
 "cells": [
  {
   "cell_type": "code",
   "execution_count": 1,
   "metadata": {
    "ExecuteTime": {
     "end_time": "2018-08-17T22:51:16.542185Z",
     "start_time": "2018-08-17T22:51:16.539388Z"
    }
   },
   "outputs": [],
   "source": [
    "#!pip install mysqlclient\n",
    "#!pip install bellmanford\n",
    "#!pip install networkx"
   ]
  },
  {
   "cell_type": "code",
   "execution_count": 2,
   "metadata": {
    "ExecuteTime": {
     "end_time": "2018-08-17T22:51:17.404678Z",
     "start_time": "2018-08-17T22:51:16.545395Z"
    }
   },
   "outputs": [],
   "source": [
    "from tqdm import tqdm\n",
    "import MySQLdb as MySQLdb\n",
    "import ast\n",
    "import numpy as np\n",
    "from ArbitrageGraph import ArbitrageGraph\n",
    "#from ExchangeFeeStore import ExchangeFeeStore\n",
    "import pandas as pd"
   ]
  },
  {
   "cell_type": "code",
   "execution_count": 3,
   "metadata": {
    "ExecuteTime": {
     "end_time": "2018-08-17T22:51:17.410014Z",
     "start_time": "2018-08-17T22:51:17.406719Z"
    }
   },
   "outputs": [],
   "source": [
    "arbitrageGraph = ArbitrageGraph(edgeTTL=5)\n",
    "#exchangeFeeStore = ExchangeFeeStore()"
   ]
  },
  {
   "cell_type": "code",
   "execution_count": 4,
   "metadata": {
    "ExecuteTime": {
     "end_time": "2018-08-17T22:51:17.415557Z",
     "start_time": "2018-08-17T22:51:17.412378Z"
    }
   },
   "outputs": [],
   "source": [
    "sql=\"SELECT exchange, pair, bids, asks, id, orderbook_time FROM orderbook WHERE exchange IN ('coinfloor','kraken','bitfinex','bittrex','gdax','bitstamp','coinbase','poloniex') ORDER BY ID LIMIT 1000;\""
   ]
  },
  {
   "cell_type": "code",
   "execution_count": 5,
   "metadata": {
    "ExecuteTime": {
     "end_time": "2018-08-17T22:51:26.261230Z",
     "start_time": "2018-08-17T22:51:17.417965Z"
    }
   },
   "outputs": [],
   "source": [
    "db = MySQLdb.connect(\n",
    "    host=\"orderbook.cyifbgm0zwt0.eu-west-2.rds.amazonaws.com\",\n",
    "    user=\"admin\",\n",
    "    passwd=\"123Qwe123Qwe\",\n",
    "    db=\"orderbook\",\n",
    "    port=3306)\n",
    "cursor = db.cursor()\n",
    "nof_rows=cursor.execute(sql)"
   ]
  },
  {
   "cell_type": "code",
   "execution_count": 6,
   "metadata": {
    "ExecuteTime": {
     "end_time": "2018-08-17T22:51:26.272217Z",
     "start_time": "2018-08-17T22:51:26.263322Z"
    }
   },
   "outputs": [],
   "source": [
    "df = pd.DataFrame(columns=['id','length','profit_perc','nodes','edges'])"
   ]
  },
  {
   "cell_type": "code",
   "execution_count": 7,
   "metadata": {
    "ExecuteTime": {
     "end_time": "2018-08-17T22:51:28.344446Z",
     "start_time": "2018-08-17T22:51:26.275414Z"
    }
   },
   "outputs": [
    {
     "name": "stderr",
     "output_type": "stream",
     "text": [
      "1000it [00:02, 485.93it/s]\n"
     ]
    }
   ],
   "source": [
    "#for row in tqdm(cursor.fetchall()):\n",
    "for row in tqdm(cursor):\n",
    "    exchangename = row[0]\n",
    "    symbol = row[1]\n",
    "    bids_str = row[2]\n",
    "    asks_str = row[3]\n",
    "    id_str = int(row[4])\n",
    "    timestamp = float(row[5])\n",
    "    #import ipdb; ipdb.set_trace()\n",
    "    try:\n",
    "        l_ask = float(ast.literal_eval(asks_str)[0][0])\n",
    "        h_bid = float(ast.literal_eval(bids_str)[0][0])\n",
    "        #print(\"%s,%s,%f,%f,%d,%f\" % (exchangename, symbol, h_bid, l_ask,id_str,timestamp))\n",
    "        length, nodes, negative_cycle = arbitrageGraph.update_point(\n",
    "            symbol,\n",
    "            exchangename,\n",
    "            0.0026, #exchangeFeeStore.getTakerFee(exchangename,symbol),\n",
    "            l_ask,\n",
    "            h_bid,\n",
    "            timestamp)\n",
    "        \n",
    "        if negative_cycle == True:\n",
    "            edges=arbitrageGraph.nodeslist_to_edges(nodes)\n",
    "            df=df.append(pd.DataFrame([[int(id_str),length,np.exp(-length)*100-100,\",\".join(str(x) for x in nodes),\",\".join(str(x) for x in edges)]], columns=['id','length','profit_perc','nodes','edges']),ignore_index=True)\n",
    "            #print(\"length:\",length,\"ratio\",np.exp(-length),'nodes',nodes,'edges',edges)\n",
    "            #arbitrageGraph.plot_graph()\n",
    "    except IndexError:\n",
    "        print(\"*** Invalid orderbook ***\")\n"
   ]
  },
  {
   "cell_type": "code",
   "execution_count": 8,
   "metadata": {
    "ExecuteTime": {
     "end_time": "2018-08-17T22:51:28.353735Z",
     "start_time": "2018-08-17T22:51:28.346976Z"
    }
   },
   "outputs": [],
   "source": [
    "db.close()"
   ]
  },
  {
   "cell_type": "code",
   "execution_count": 9,
   "metadata": {
    "ExecuteTime": {
     "end_time": "2018-08-17T22:51:28.378290Z",
     "start_time": "2018-08-17T22:51:28.357215Z"
    }
   },
   "outputs": [
    {
     "data": {
      "text/html": [
       "<div>\n",
       "<style scoped>\n",
       "    .dataframe tbody tr th:only-of-type {\n",
       "        vertical-align: middle;\n",
       "    }\n",
       "\n",
       "    .dataframe tbody tr th {\n",
       "        vertical-align: top;\n",
       "    }\n",
       "\n",
       "    .dataframe thead th {\n",
       "        text-align: right;\n",
       "    }\n",
       "</style>\n",
       "<table border=\"1\" class=\"dataframe\">\n",
       "  <thead>\n",
       "    <tr style=\"text-align: right;\">\n",
       "      <th></th>\n",
       "      <th>id</th>\n",
       "      <th>length</th>\n",
       "      <th>profit_perc</th>\n",
       "      <th>nodes</th>\n",
       "      <th>edges</th>\n",
       "    </tr>\n",
       "  </thead>\n",
       "  <tbody>\n",
       "    <tr>\n",
       "      <th>0</th>\n",
       "      <td>6614</td>\n",
       "      <td>-0.000586</td>\n",
       "      <td>0.058611</td>\n",
       "      <td>kraken-USD,bitstamp-USD,bitstamp-ETH,kraken-ET...</td>\n",
       "      <td>0.0,6.042858097147529,0.0,-6.0434440390081585</td>\n",
       "    </tr>\n",
       "    <tr>\n",
       "      <th>1</th>\n",
       "      <td>6624</td>\n",
       "      <td>-0.000586</td>\n",
       "      <td>0.058611</td>\n",
       "      <td>kraken-USD,bitstamp-USD,bitstamp-ETH,kraken-ET...</td>\n",
       "      <td>0.0,6.042858097147529,0.0,-6.0434440390081585</td>\n",
       "    </tr>\n",
       "    <tr>\n",
       "      <th>2</th>\n",
       "      <td>6631</td>\n",
       "      <td>-0.000586</td>\n",
       "      <td>0.058611</td>\n",
       "      <td>kraken-USD,bitstamp-USD,bitstamp-ETH,kraken-ET...</td>\n",
       "      <td>0.0,6.042858097147529,0.0,-6.0434440390081585</td>\n",
       "    </tr>\n",
       "    <tr>\n",
       "      <th>3</th>\n",
       "      <td>6632</td>\n",
       "      <td>-0.000586</td>\n",
       "      <td>0.058611</td>\n",
       "      <td>kraken-USD,bitstamp-USD,bitstamp-ETH,kraken-ET...</td>\n",
       "      <td>0.0,6.042858097147529,0.0,-6.0434440390081585</td>\n",
       "    </tr>\n",
       "    <tr>\n",
       "      <th>4</th>\n",
       "      <td>6635</td>\n",
       "      <td>-0.000586</td>\n",
       "      <td>0.058611</td>\n",
       "      <td>kraken-USD,bitstamp-USD,bitstamp-ETH,kraken-ET...</td>\n",
       "      <td>0.0,6.042858097147529,0.0,-6.0434440390081585</td>\n",
       "    </tr>\n",
       "  </tbody>\n",
       "</table>\n",
       "</div>"
      ],
      "text/plain": [
       "     id    length  profit_perc  \\\n",
       "0  6614 -0.000586     0.058611   \n",
       "1  6624 -0.000586     0.058611   \n",
       "2  6631 -0.000586     0.058611   \n",
       "3  6632 -0.000586     0.058611   \n",
       "4  6635 -0.000586     0.058611   \n",
       "\n",
       "                                               nodes  \\\n",
       "0  kraken-USD,bitstamp-USD,bitstamp-ETH,kraken-ET...   \n",
       "1  kraken-USD,bitstamp-USD,bitstamp-ETH,kraken-ET...   \n",
       "2  kraken-USD,bitstamp-USD,bitstamp-ETH,kraken-ET...   \n",
       "3  kraken-USD,bitstamp-USD,bitstamp-ETH,kraken-ET...   \n",
       "4  kraken-USD,bitstamp-USD,bitstamp-ETH,kraken-ET...   \n",
       "\n",
       "                                           edges  \n",
       "0  0.0,6.042858097147529,0.0,-6.0434440390081585  \n",
       "1  0.0,6.042858097147529,0.0,-6.0434440390081585  \n",
       "2  0.0,6.042858097147529,0.0,-6.0434440390081585  \n",
       "3  0.0,6.042858097147529,0.0,-6.0434440390081585  \n",
       "4  0.0,6.042858097147529,0.0,-6.0434440390081585  "
      ]
     },
     "execution_count": 9,
     "metadata": {},
     "output_type": "execute_result"
    }
   ],
   "source": [
    "df.head()"
   ]
  },
  {
   "cell_type": "code",
   "execution_count": 10,
   "metadata": {
    "ExecuteTime": {
     "end_time": "2018-08-17T22:51:28.592737Z",
     "start_time": "2018-08-17T22:51:28.381023Z"
    }
   },
   "outputs": [
    {
     "data": {
      "text/plain": [
       "<matplotlib.axes._subplots.AxesSubplot at 0xa22631710>"
      ]
     },
     "execution_count": 10,
     "metadata": {},
     "output_type": "execute_result"
    },
    {
     "data": {
      "image/png": "[encoded data removed]",
      "text/plain": [
       "<Figure size 432x288 with 1 Axes>"
      ]
     },
     "metadata": {},
     "output_type": "display_data"
    }
   ],
   "source": [
    "df['profit_perc'].hist(bins=100)"
   ]
  },
  {
   "cell_type": "code",
   "execution_count": 11,
   "metadata": {
    "ExecuteTime": {
     "end_time": "2018-08-17T22:51:28.600990Z",
     "start_time": "2018-08-17T22:51:28.595295Z"
    }
   },
   "outputs": [],
   "source": [
    "df.to_csv(\"arbitrage.csv\",index=False)"
   ]
  }
 ],
 "metadata": {
  "kernelspec": {
   "display_name": "Python 3",
   "language": "python",
   "name": "python3"
  },
  "language_info": {
   "codemirror_mode": {
    "name": "ipython",
    "version": 3
   },
   "file_extension": ".py",
   "mimetype": "text/x-python",
   "name": "python",
   "nbconvert_exporter": "python",
   "pygments_lexer": "ipython3",
   "version": "3.6.6"
  },
  "varInspector": {
   "cols": {
    "lenName": 16,
    "lenType": 16,
    "lenVar": 40
   },
   "kernels_config": {
    "python": {
     "delete_cmd_postfix": "",
     "delete_cmd_prefix": "del ",
     "library": "var_list.py",
     "varRefreshCmd": "print(var_dic_list())"
    },
    "r": {
     "delete_cmd_postfix": ") ",
     "delete_cmd_prefix": "rm(",
     "library": "var_list.r",
     "varRefreshCmd": "cat(var_dic_list()) "
    }
   },
   "types_to_exclude": [
    "module",
    "function",
    "builtin_function_or_method",
    "instance",
    "_Feature"
   ],
   "window_display": false
  }
 },
 "nbformat": 4,
 "nbformat_minor": 2
}
