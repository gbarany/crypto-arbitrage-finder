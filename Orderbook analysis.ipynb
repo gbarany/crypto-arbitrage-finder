{
 "cells": [
  {
   "cell_type": "code",
   "execution_count": null,
   "metadata": {
    "ExecuteTime": {
     "end_time": "2018-08-19T21:01:24.482320Z",
     "start_time": "2018-08-19T21:01:24.479470Z"
    }
   },
   "outputs": [],
   "source": [
    "#!pip install mysqlclient\n",
    "#!pip install bellmanford\n",
    "#!pip install networkx\n",
    "#!pip install ccxt"
   ]
  },
  {
   "cell_type": "code",
   "execution_count": null,
   "metadata": {
    "ExecuteTime": {
     "end_time": "2018-08-19T21:01:27.213713Z",
     "start_time": "2018-08-19T21:01:24.484651Z"
    }
   },
   "outputs": [],
   "source": [
    "from OrderbookAnalyser import OrderbookAnalyser"
   ]
  },
  {
   "cell_type": "code",
   "execution_count": null,
   "metadata": {
    "ExecuteTime": {
     "end_time": "2018-08-19T21:07:58.730505Z",
     "start_time": "2018-08-19T21:01:27.216124Z"
    },
    "scrolled": false
   },
   "outputs": [],
   "source": [
    "runLocal = True\n",
    "\n",
    "if runLocal == False:\n",
    "    host=\"orderbook-2.cyifbgm0zwt0.eu-west-2.rds.amazonaws.com\"\n",
    "    user=\"admin\"\n",
    "    passwd=\"123Qwe123Qwe\"\n",
    "    db=\"orderbook\"\n",
    "    port=3306\n",
    "else:\n",
    "    host=\"127.0.0.1\"\n",
    "    user=\"admin\"\n",
    "    passwd=\"admin\"\n",
    "    db=\"orderbook\"\n",
    "    port=33306\n",
    "\n",
    "orderbookAnalyser = OrderbookAnalyser(host,user,passwd,db,port)\n",
    "\n",
    "exchangeList = ['coinfloor','kraken','bitfinex','bittrex','gdax','bitstamp','coinbase','poloniex']\n",
    "vol_BTC = 0.15\n",
    "df=orderbookAnalyser.runSim(exchangeList=exchangeList,limit=None,vol_BTC=vol_BTC)"
   ]
  },
  {
   "cell_type": "code",
   "execution_count": null,
   "metadata": {
    "ExecuteTime": {
     "end_time": "2018-08-19T21:07:58.770906Z",
     "start_time": "2018-08-19T21:07:58.732996Z"
    }
   },
   "outputs": [],
   "source": [
    "df.head()"
   ]
  },
  {
   "cell_type": "code",
   "execution_count": null,
   "metadata": {
    "ExecuteTime": {
     "end_time": "2018-08-19T21:07:59.001120Z",
     "start_time": "2018-08-19T21:07:58.772994Z"
    }
   },
   "outputs": [],
   "source": [
    "df['profit_perc'].hist(bins=100)"
   ]
  },
  {
   "cell_type": "code",
   "execution_count": null,
   "metadata": {
    "ExecuteTime": {
     "end_time": "2018-08-19T21:07:59.064844Z",
     "start_time": "2018-08-19T21:07:59.002962Z"
    }
   },
   "outputs": [],
   "source": [
    "df.to_csv(\"./results/arbitrage_Vol=%2.3fBTC.csv\"%vol_BTC,index=False)"
   ]
  },
  {
   "cell_type": "code",
   "execution_count": null,
   "metadata": {
    "ExecuteTime": {
     "end_time": "2018-08-19T21:12:11.681785Z",
     "start_time": "2018-08-19T21:12:11.649208Z"
    }
   },
   "outputs": [],
   "source": [
    "df[['exchanges_involved', 'profit_perc']].groupby(['exchanges_involved']).agg(['min','max','mean', 'count']).sort_values([('profit_perc', 'mean')], ascending=False)"
   ]
  },
  {
   "cell_type": "code",
   "execution_count": null,
   "metadata": {},
   "outputs": [],
   "source": []
  }
 ],
 "metadata": {
  "kernelspec": {
   "display_name": "Python 3",
   "language": "python",
   "name": "python3"
  },
  "language_info": {
   "codemirror_mode": {
    "name": "ipython",
    "version": 3
   },
   "file_extension": ".py",
   "mimetype": "text/x-python",
   "name": "python",
   "nbconvert_exporter": "python",
   "pygments_lexer": "ipython3",
   "version": "3.6.6"
  },
  "varInspector": {
   "cols": {
    "lenName": 16,
    "lenType": 16,
    "lenVar": 40
   },
   "kernels_config": {
    "python": {
     "delete_cmd_postfix": "",
     "delete_cmd_prefix": "del ",
     "library": "var_list.py",
     "varRefreshCmd": "print(var_dic_list())"
    },
    "r": {
     "delete_cmd_postfix": ") ",
     "delete_cmd_prefix": "rm(",
     "library": "var_list.r",
     "varRefreshCmd": "cat(var_dic_list()) "
    }
   },
   "types_to_exclude": [
    "module",
    "function",
    "builtin_function_or_method",
    "instance",
    "_Feature"
   ],
   "window_display": false
  }
 },
 "nbformat": 4,
 "nbformat_minor": 2
}
