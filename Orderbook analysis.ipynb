{
 "cells": [
  {
   "cell_type": "code",
   "execution_count": null,
   "metadata": {
    "ExecuteTime": {
     "end_time": "2018-08-19T22:48:11.740540Z",
     "start_time": "2018-08-19T22:48:11.737644Z"
    }
   },
   "outputs": [],
   "source": [
    "#!pip install mysqlclient\n",
    "#!pip install bellmanford\n",
    "#!pip install networkx\n",
    "#!pip install ccxt"
   ]
  },
  {
   "cell_type": "code",
   "execution_count": null,
   "metadata": {
    "ExecuteTime": {
     "end_time": "2018-08-19T22:48:17.310611Z",
     "start_time": "2018-08-19T22:48:11.743714Z"
    }
   },
   "outputs": [],
   "source": [
    "from OrderbookAnalyser import OrderbookAnalyser"
   ]
  },
  {
   "cell_type": "code",
   "execution_count": null,
   "metadata": {
    "ExecuteTime": {
     "end_time": "2018-08-19T22:53:02.440763Z",
     "start_time": "2018-08-19T22:48:17.313505Z"
    },
    "scrolled": false
   },
   "outputs": [],
   "source": [
    "runLocal = True\n",
    "\n",
    "if runLocal == False:\n",
    "    host=\"orderbook-2.cyifbgm0zwt0.eu-west-2.rds.amazonaws.com\"\n",
    "    user=\"admin\"\n",
    "    passwd=\"123Qwe123Qwe\"\n",
    "    db=\"orderbook\"\n",
    "    port=3306\n",
    "else:\n",
    "    host=\"127.0.0.1\"\n",
    "    user=\"admin\"\n",
    "    passwd=\"admin\"\n",
    "    db=\"orderbook\"\n",
    "    port=33306\n",
    "\n",
    "orderbookAnalyser = OrderbookAnalyser(host,user,passwd,db,port)\n",
    "\n",
    "exchangeList = ['coinfloor','kraken','bitfinex','bittrex','gdax','bitstamp','coinbase','poloniex']\n",
    "vol_BTC = [1,0.1, 0.01]\n",
    "limit = 10000 # None\n",
    "df=orderbookAnalyser.runSim(exchangeList=exchangeList,limit=limit,vol_BTC=vol_BTC)"
   ]
  },
  {
   "cell_type": "code",
   "execution_count": null,
   "metadata": {
    "ExecuteTime": {
     "end_time": "2018-08-19T22:53:02.467224Z",
     "start_time": "2018-08-19T22:53:02.443570Z"
    }
   },
   "outputs": [],
   "source": [
    "df.head()"
   ]
  },
  {
   "cell_type": "code",
   "execution_count": null,
   "metadata": {
    "ExecuteTime": {
     "end_time": "2018-08-19T22:53:02.693829Z",
     "start_time": "2018-08-19T22:53:02.469135Z"
    }
   },
   "outputs": [],
   "source": [
    "df['profit_perc'].hist(bins=100)"
   ]
  },
  {
   "cell_type": "code",
   "execution_count": null,
   "metadata": {
    "ExecuteTime": {
     "end_time": "2018-08-19T22:53:02.729273Z",
     "start_time": "2018-08-19T22:53:02.696284Z"
    }
   },
   "outputs": [],
   "source": [
    "if exchangeList==None:\n",
    "    exchangeList=['all']\n",
    "df.to_csv(\"./results/arbitrage_Vol=%s_XC=%s.csv\"%(\"-\".join([str(i)+\"BTC\" for i in vol_BTC]),'-'.join(exchangeList)),index=False)"
   ]
  },
  {
   "cell_type": "code",
   "execution_count": null,
   "metadata": {
    "ExecuteTime": {
     "end_time": "2018-08-19T22:53:02.755807Z",
     "start_time": "2018-08-19T22:53:02.731668Z"
    }
   },
   "outputs": [],
   "source": [
    "df[['exchanges_involved', 'profit_perc','vol_BTC']].groupby(['exchanges_involved','vol_BTC']).agg(['min','max','mean', 'count']).sort_values([('profit_perc', 'mean')], ascending=False)"
   ]
  },
  {
   "cell_type": "code",
   "execution_count": null,
   "metadata": {},
   "outputs": [],
   "source": []
  }
 ],
 "metadata": {
  "kernelspec": {
   "display_name": "Python 3",
   "language": "python",
   "name": "python3"
  },
  "language_info": {
   "codemirror_mode": {
    "name": "ipython",
    "version": 3
   },
   "file_extension": ".py",
   "mimetype": "text/x-python",
   "name": "python",
   "nbconvert_exporter": "python",
   "pygments_lexer": "ipython3",
   "version": "3.6.6"
  },
  "varInspector": {
   "cols": {
    "lenName": 16,
    "lenType": 16,
    "lenVar": 40
   },
   "kernels_config": {
    "python": {
     "delete_cmd_postfix": "",
     "delete_cmd_prefix": "del ",
     "library": "var_list.py",
     "varRefreshCmd": "print(var_dic_list())"
    },
    "r": {
     "delete_cmd_postfix": ") ",
     "delete_cmd_prefix": "rm(",
     "library": "var_list.r",
     "varRefreshCmd": "cat(var_dic_list()) "
    }
   },
   "types_to_exclude": [
    "module",
    "function",
    "builtin_function_or_method",
    "instance",
    "_Feature"
   ],
   "window_display": false
  }
 },
 "nbformat": 4,
 "nbformat_minor": 2
}
